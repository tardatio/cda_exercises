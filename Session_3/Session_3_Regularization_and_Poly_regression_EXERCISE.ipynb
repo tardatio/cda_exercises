{
 "cells": [
  {
   "cell_type": "markdown",
   "metadata": {
    "id": "T_U6YCp9QD33"
   },
   "source": [
    "\n",
    "![BTS](https://github.com/vfp1/bts-dsf-2020/raw/main/Logo-BTS.jpg)\n",
    "\n",
    "# Session 3: Logistic Regression EXERCISE\n",
    "\n",
    "### Victor F. Pajuelo Madrigal <victor.pajuelo@bts.tech> - Classical Data Analysis (2020-12-21)\n",
    "\n",
    "Open this notebook in Google Colaboratory: [![Open in Colab](https://colab.research.google.com/assets/colab-badge.svg)](https://colab.research.google.com/github/vfp1/bts-cda-2020/blob/main/Session_3/Session_3_Regularization_and_Poly_regression_EXERCISE.ipynb)\n",
    "\n",
    "**Resources:**\n",
    "* Auréliene Géron, Hands On ML with SKlearn, Keras and TF"
   ]
  },
  {
   "cell_type": "markdown",
   "metadata": {
    "id": "47cNdF6xP5eF"
   },
   "source": [
    "# Regression with regularization"
   ]
  },
  {
   "cell_type": "markdown",
   "metadata": {
    "id": "I-2OcibZP5eH"
   },
   "source": [
    "#### We will using the Boston Housing Dataset available in sklearn and we will extend it with  5 additional features of random noise to test each algorithm’s ability to filter out irrelevant information:\n",
    "\n",
    "- **Examine the results of applying Linear Regression, Lasso Regression, Ridge Regression and Elastic Net on the features scores**\n",
    "- **Try to modify the hyperparameters lambda and describe how it affects the parmeter scores**\n",
    "\n",
    "This is the very same exercise that we did in class, try to go in depth into the tradeoffs of lambda (alpha) and others"
   ]
  },
  {
   "cell_type": "markdown",
   "metadata": {
    "id": "oGLVXZSyP5eH"
   },
   "source": [
    "### Import libraries and dataset from sklearn"
   ]
  },
  {
   "cell_type": "code",
   "execution_count": 1,
   "metadata": {
    "id": "YfgiMb3fP5eI",
    "outputId": "fc67f653-cff5-420b-bf56-3d63a2df7b25"
   },
   "outputs": [
    {
     "data": {
      "text/html": [
       "<div>\n",
       "<style scoped>\n",
       "    .dataframe tbody tr th:only-of-type {\n",
       "        vertical-align: middle;\n",
       "    }\n",
       "\n",
       "    .dataframe tbody tr th {\n",
       "        vertical-align: top;\n",
       "    }\n",
       "\n",
       "    .dataframe thead th {\n",
       "        text-align: right;\n",
       "    }\n",
       "</style>\n",
       "<table border=\"1\" class=\"dataframe\">\n",
       "  <thead>\n",
       "    <tr style=\"text-align: right;\">\n",
       "      <th></th>\n",
       "      <th>CRIM</th>\n",
       "      <th>ZN</th>\n",
       "      <th>INDUS</th>\n",
       "      <th>CHAS</th>\n",
       "      <th>NOX</th>\n",
       "      <th>RM</th>\n",
       "      <th>AGE</th>\n",
       "      <th>DIS</th>\n",
       "      <th>RAD</th>\n",
       "      <th>TAX</th>\n",
       "      <th>PTRATIO</th>\n",
       "      <th>B</th>\n",
       "      <th>LSTAT</th>\n",
       "    </tr>\n",
       "  </thead>\n",
       "  <tbody>\n",
       "    <tr>\n",
       "      <th>0</th>\n",
       "      <td>0.00632</td>\n",
       "      <td>18.0</td>\n",
       "      <td>2.31</td>\n",
       "      <td>0.0</td>\n",
       "      <td>0.538</td>\n",
       "      <td>6.575</td>\n",
       "      <td>65.2</td>\n",
       "      <td>4.0900</td>\n",
       "      <td>1.0</td>\n",
       "      <td>296.0</td>\n",
       "      <td>15.3</td>\n",
       "      <td>396.90</td>\n",
       "      <td>4.98</td>\n",
       "    </tr>\n",
       "    <tr>\n",
       "      <th>1</th>\n",
       "      <td>0.02731</td>\n",
       "      <td>0.0</td>\n",
       "      <td>7.07</td>\n",
       "      <td>0.0</td>\n",
       "      <td>0.469</td>\n",
       "      <td>6.421</td>\n",
       "      <td>78.9</td>\n",
       "      <td>4.9671</td>\n",
       "      <td>2.0</td>\n",
       "      <td>242.0</td>\n",
       "      <td>17.8</td>\n",
       "      <td>396.90</td>\n",
       "      <td>9.14</td>\n",
       "    </tr>\n",
       "    <tr>\n",
       "      <th>2</th>\n",
       "      <td>0.02729</td>\n",
       "      <td>0.0</td>\n",
       "      <td>7.07</td>\n",
       "      <td>0.0</td>\n",
       "      <td>0.469</td>\n",
       "      <td>7.185</td>\n",
       "      <td>61.1</td>\n",
       "      <td>4.9671</td>\n",
       "      <td>2.0</td>\n",
       "      <td>242.0</td>\n",
       "      <td>17.8</td>\n",
       "      <td>392.83</td>\n",
       "      <td>4.03</td>\n",
       "    </tr>\n",
       "    <tr>\n",
       "      <th>3</th>\n",
       "      <td>0.03237</td>\n",
       "      <td>0.0</td>\n",
       "      <td>2.18</td>\n",
       "      <td>0.0</td>\n",
       "      <td>0.458</td>\n",
       "      <td>6.998</td>\n",
       "      <td>45.8</td>\n",
       "      <td>6.0622</td>\n",
       "      <td>3.0</td>\n",
       "      <td>222.0</td>\n",
       "      <td>18.7</td>\n",
       "      <td>394.63</td>\n",
       "      <td>2.94</td>\n",
       "    </tr>\n",
       "    <tr>\n",
       "      <th>4</th>\n",
       "      <td>0.06905</td>\n",
       "      <td>0.0</td>\n",
       "      <td>2.18</td>\n",
       "      <td>0.0</td>\n",
       "      <td>0.458</td>\n",
       "      <td>7.147</td>\n",
       "      <td>54.2</td>\n",
       "      <td>6.0622</td>\n",
       "      <td>3.0</td>\n",
       "      <td>222.0</td>\n",
       "      <td>18.7</td>\n",
       "      <td>396.90</td>\n",
       "      <td>5.33</td>\n",
       "    </tr>\n",
       "  </tbody>\n",
       "</table>\n",
       "</div>"
      ],
      "text/plain": [
       "      CRIM    ZN  INDUS  CHAS    NOX     RM   AGE     DIS  RAD    TAX  \\\n",
       "0  0.00632  18.0   2.31   0.0  0.538  6.575  65.2  4.0900  1.0  296.0   \n",
       "1  0.02731   0.0   7.07   0.0  0.469  6.421  78.9  4.9671  2.0  242.0   \n",
       "2  0.02729   0.0   7.07   0.0  0.469  7.185  61.1  4.9671  2.0  242.0   \n",
       "3  0.03237   0.0   2.18   0.0  0.458  6.998  45.8  6.0622  3.0  222.0   \n",
       "4  0.06905   0.0   2.18   0.0  0.458  7.147  54.2  6.0622  3.0  222.0   \n",
       "\n",
       "   PTRATIO       B  LSTAT  \n",
       "0     15.3  396.90   4.98  \n",
       "1     17.8  396.90   9.14  \n",
       "2     17.8  392.83   4.03  \n",
       "3     18.7  394.63   2.94  \n",
       "4     18.7  396.90   5.33  "
      ]
     },
     "execution_count": 1,
     "metadata": {},
     "output_type": "execute_result"
    }
   ],
   "source": [
    "import matplotlib.pyplot as plt\n",
    "import numpy as np \n",
    "import pandas as pd\n",
    "import matplotlib\n",
    "matplotlib.rcParams.update({'font.size': 12})\n",
    "from sklearn.datasets import load_boston\n",
    "from sklearn.model_selection import train_test_split\n",
    "from sklearn.linear_model import LinearRegression\n",
    "from sklearn.linear_model import Ridge\n",
    "from sklearn import metrics\n",
    "from sklearn.metrics import mean_squared_error\n",
    "\n",
    "boston=load_boston()\n",
    "boston_df=pd.DataFrame(boston.data,columns=boston.feature_names)\n",
    "\n",
    "boston_df.head()"
   ]
  },
  {
   "cell_type": "code",
   "execution_count": null,
   "metadata": {
    "id": "kAFzeugPP5eJ"
   },
   "outputs": [],
   "source": []
  },
  {
   "cell_type": "markdown",
   "metadata": {
    "id": "W7fJX1LuP5eK"
   },
   "source": [
    "### Add Noise to original dataset"
   ]
  },
  {
   "cell_type": "code",
   "execution_count": 2,
   "metadata": {
    "id": "kOCkhsAZP5eK"
   },
   "outputs": [],
   "source": [
    "n_houses = boston_df.shape[0]\n",
    "rand_noise = np.random.rand(n_houses, 5)\n",
    "\n",
    "rand_noise_df = pd.DataFrame(data=rand_noise, columns=['Noise_1', 'Noise_2', 'Noise_3', 'Noise_4', 'Noise_5'])\n",
    "X = pd.concat([boston_df, rand_noise_df], axis=1)\n",
    "y = boston['target']\n"
   ]
  },
  {
   "cell_type": "code",
   "execution_count": 3,
   "metadata": {
    "id": "cG1PjrYhP5eK",
    "outputId": "be058aa6-40fa-4ad0-ebb1-5eeb2dd9b7f7"
   },
   "outputs": [
    {
     "data": {
      "text/html": [
       "<div>\n",
       "<style scoped>\n",
       "    .dataframe tbody tr th:only-of-type {\n",
       "        vertical-align: middle;\n",
       "    }\n",
       "\n",
       "    .dataframe tbody tr th {\n",
       "        vertical-align: top;\n",
       "    }\n",
       "\n",
       "    .dataframe thead th {\n",
       "        text-align: right;\n",
       "    }\n",
       "</style>\n",
       "<table border=\"1\" class=\"dataframe\">\n",
       "  <thead>\n",
       "    <tr style=\"text-align: right;\">\n",
       "      <th></th>\n",
       "      <th>CRIM</th>\n",
       "      <th>ZN</th>\n",
       "      <th>INDUS</th>\n",
       "      <th>CHAS</th>\n",
       "      <th>NOX</th>\n",
       "      <th>RM</th>\n",
       "      <th>AGE</th>\n",
       "      <th>DIS</th>\n",
       "      <th>RAD</th>\n",
       "      <th>TAX</th>\n",
       "      <th>PTRATIO</th>\n",
       "      <th>B</th>\n",
       "      <th>LSTAT</th>\n",
       "      <th>Noise_1</th>\n",
       "      <th>Noise_2</th>\n",
       "      <th>Noise_3</th>\n",
       "      <th>Noise_4</th>\n",
       "      <th>Noise_5</th>\n",
       "    </tr>\n",
       "  </thead>\n",
       "  <tbody>\n",
       "    <tr>\n",
       "      <th>0</th>\n",
       "      <td>0.00632</td>\n",
       "      <td>18.0</td>\n",
       "      <td>2.31</td>\n",
       "      <td>0.0</td>\n",
       "      <td>0.538</td>\n",
       "      <td>6.575</td>\n",
       "      <td>65.2</td>\n",
       "      <td>4.0900</td>\n",
       "      <td>1.0</td>\n",
       "      <td>296.0</td>\n",
       "      <td>15.3</td>\n",
       "      <td>396.90</td>\n",
       "      <td>4.98</td>\n",
       "      <td>0.243595</td>\n",
       "      <td>0.674487</td>\n",
       "      <td>0.863983</td>\n",
       "      <td>0.730200</td>\n",
       "      <td>0.449596</td>\n",
       "    </tr>\n",
       "    <tr>\n",
       "      <th>1</th>\n",
       "      <td>0.02731</td>\n",
       "      <td>0.0</td>\n",
       "      <td>7.07</td>\n",
       "      <td>0.0</td>\n",
       "      <td>0.469</td>\n",
       "      <td>6.421</td>\n",
       "      <td>78.9</td>\n",
       "      <td>4.9671</td>\n",
       "      <td>2.0</td>\n",
       "      <td>242.0</td>\n",
       "      <td>17.8</td>\n",
       "      <td>396.90</td>\n",
       "      <td>9.14</td>\n",
       "      <td>0.640279</td>\n",
       "      <td>0.936414</td>\n",
       "      <td>0.107018</td>\n",
       "      <td>0.598764</td>\n",
       "      <td>0.651372</td>\n",
       "    </tr>\n",
       "    <tr>\n",
       "      <th>2</th>\n",
       "      <td>0.02729</td>\n",
       "      <td>0.0</td>\n",
       "      <td>7.07</td>\n",
       "      <td>0.0</td>\n",
       "      <td>0.469</td>\n",
       "      <td>7.185</td>\n",
       "      <td>61.1</td>\n",
       "      <td>4.9671</td>\n",
       "      <td>2.0</td>\n",
       "      <td>242.0</td>\n",
       "      <td>17.8</td>\n",
       "      <td>392.83</td>\n",
       "      <td>4.03</td>\n",
       "      <td>0.701221</td>\n",
       "      <td>0.161815</td>\n",
       "      <td>0.670323</td>\n",
       "      <td>0.968666</td>\n",
       "      <td>0.224130</td>\n",
       "    </tr>\n",
       "    <tr>\n",
       "      <th>3</th>\n",
       "      <td>0.03237</td>\n",
       "      <td>0.0</td>\n",
       "      <td>2.18</td>\n",
       "      <td>0.0</td>\n",
       "      <td>0.458</td>\n",
       "      <td>6.998</td>\n",
       "      <td>45.8</td>\n",
       "      <td>6.0622</td>\n",
       "      <td>3.0</td>\n",
       "      <td>222.0</td>\n",
       "      <td>18.7</td>\n",
       "      <td>394.63</td>\n",
       "      <td>2.94</td>\n",
       "      <td>0.065739</td>\n",
       "      <td>0.884923</td>\n",
       "      <td>0.562324</td>\n",
       "      <td>0.911335</td>\n",
       "      <td>0.217667</td>\n",
       "    </tr>\n",
       "    <tr>\n",
       "      <th>4</th>\n",
       "      <td>0.06905</td>\n",
       "      <td>0.0</td>\n",
       "      <td>2.18</td>\n",
       "      <td>0.0</td>\n",
       "      <td>0.458</td>\n",
       "      <td>7.147</td>\n",
       "      <td>54.2</td>\n",
       "      <td>6.0622</td>\n",
       "      <td>3.0</td>\n",
       "      <td>222.0</td>\n",
       "      <td>18.7</td>\n",
       "      <td>396.90</td>\n",
       "      <td>5.33</td>\n",
       "      <td>0.095323</td>\n",
       "      <td>0.411541</td>\n",
       "      <td>0.984117</td>\n",
       "      <td>0.353676</td>\n",
       "      <td>0.313275</td>\n",
       "    </tr>\n",
       "  </tbody>\n",
       "</table>\n",
       "</div>"
      ],
      "text/plain": [
       "      CRIM    ZN  INDUS  CHAS    NOX     RM   AGE     DIS  RAD    TAX  \\\n",
       "0  0.00632  18.0   2.31   0.0  0.538  6.575  65.2  4.0900  1.0  296.0   \n",
       "1  0.02731   0.0   7.07   0.0  0.469  6.421  78.9  4.9671  2.0  242.0   \n",
       "2  0.02729   0.0   7.07   0.0  0.469  7.185  61.1  4.9671  2.0  242.0   \n",
       "3  0.03237   0.0   2.18   0.0  0.458  6.998  45.8  6.0622  3.0  222.0   \n",
       "4  0.06905   0.0   2.18   0.0  0.458  7.147  54.2  6.0622  3.0  222.0   \n",
       "\n",
       "   PTRATIO       B  LSTAT   Noise_1   Noise_2   Noise_3   Noise_4   Noise_5  \n",
       "0     15.3  396.90   4.98  0.243595  0.674487  0.863983  0.730200  0.449596  \n",
       "1     17.8  396.90   9.14  0.640279  0.936414  0.107018  0.598764  0.651372  \n",
       "2     17.8  392.83   4.03  0.701221  0.161815  0.670323  0.968666  0.224130  \n",
       "3     18.7  394.63   2.94  0.065739  0.884923  0.562324  0.911335  0.217667  \n",
       "4     18.7  396.90   5.33  0.095323  0.411541  0.984117  0.353676  0.313275  "
      ]
     },
     "execution_count": 3,
     "metadata": {},
     "output_type": "execute_result"
    }
   ],
   "source": [
    "X.head()"
   ]
  },
  {
   "cell_type": "code",
   "execution_count": 4,
   "metadata": {
    "id": "wfKjAvf4P5eL",
    "outputId": "bef4eebb-40a2-4081-e5bf-e05e2e62dea7"
   },
   "outputs": [
    {
     "data": {
      "text/plain": [
       "array([24. , 21.6, 34.7, 33.4, 36.2])"
      ]
     },
     "execution_count": 4,
     "metadata": {},
     "output_type": "execute_result"
    }
   ],
   "source": [
    "y[0:5]"
   ]
  },
  {
   "cell_type": "markdown",
   "metadata": {
    "id": "hx6KUx1kP5eL"
   },
   "source": [
    "### Implement classical linear regression, Lasso, Ridge and ElasticNet (use the default parameter of sklearn) and describe how the scores of the features change"
   ]
  },
  {
   "cell_type": "code",
   "execution_count": 5,
   "metadata": {
    "id": "YWVwV1sHP5eM"
   },
   "outputs": [],
   "source": [
    "from sklearn.linear_model import LinearRegression, Lasso, Ridge, ElasticNet\n",
    "\n",
    "# CREATE MODEL INSTANCES\n",
    "# PUT YOUR CODE HERE\n",
    "boston_lr = LinearRegression()\n",
    "boston_ls = Lasso()\n",
    "boston_rg = Ridge(alpha=10)\n",
    "boston_en = ElasticNet()\n",
    "    \n",
    "models = [(boston_lr, 'Linear Regression'), (boston_ls, 'Lasso'),\n",
    "          (boston_rg, \"Ridge Regression\"), (boston_en, \"Elastic Net\")]"
   ]
  },
  {
   "cell_type": "markdown",
   "metadata": {
    "id": "Vp3_wR5CP5eM"
   },
   "source": [
    "##### NORMALIZE DATA USING THE ```StandardScaler``` PROVIDED BY sklearn"
   ]
  },
  {
   "cell_type": "code",
   "execution_count": 6,
   "metadata": {
    "id": "Ftfk1EaAP5eM"
   },
   "outputs": [],
   "source": [
    "from sklearn.preprocessing import StandardScaler\n",
    "\n",
    "boston_ss = StandardScaler()\n",
    "X_scaled = boston_ss.fit_transform(X=X)\n",
    "\n",
    "X_train, X_test, y_train, y_test = train_test_split(X_scaled, y, test_size=0.25, random_state=235)"
   ]
  },
  {
   "cell_type": "code",
   "execution_count": 8,
   "metadata": {},
   "outputs": [
    {
     "data": {
      "text/html": [
       "<div>\n",
       "<style scoped>\n",
       "    .dataframe tbody tr th:only-of-type {\n",
       "        vertical-align: middle;\n",
       "    }\n",
       "\n",
       "    .dataframe tbody tr th {\n",
       "        vertical-align: top;\n",
       "    }\n",
       "\n",
       "    .dataframe thead th {\n",
       "        text-align: right;\n",
       "    }\n",
       "</style>\n",
       "<table border=\"1\" class=\"dataframe\">\n",
       "  <thead>\n",
       "    <tr style=\"text-align: right;\">\n",
       "      <th></th>\n",
       "      <th>Feature Name</th>\n",
       "      <th>Linear Regression</th>\n",
       "      <th>Lasso</th>\n",
       "      <th>Ridge Regression</th>\n",
       "      <th>Elastic Net</th>\n",
       "    </tr>\n",
       "  </thead>\n",
       "  <tbody>\n",
       "    <tr>\n",
       "      <th>0</th>\n",
       "      <td>CRIM</td>\n",
       "      <td>-0.247675</td>\n",
       "      <td>-0.000000</td>\n",
       "      <td>-0.194009</td>\n",
       "      <td>-0.000715</td>\n",
       "    </tr>\n",
       "    <tr>\n",
       "      <th>1</th>\n",
       "      <td>ZN</td>\n",
       "      <td>0.748844</td>\n",
       "      <td>0.000000</td>\n",
       "      <td>0.621422</td>\n",
       "      <td>0.000000</td>\n",
       "    </tr>\n",
       "    <tr>\n",
       "      <th>2</th>\n",
       "      <td>INDUS</td>\n",
       "      <td>0.119959</td>\n",
       "      <td>-0.000000</td>\n",
       "      <td>-0.057842</td>\n",
       "      <td>-0.117297</td>\n",
       "    </tr>\n",
       "    <tr>\n",
       "      <th>3</th>\n",
       "      <td>CHAS</td>\n",
       "      <td>1.061234</td>\n",
       "      <td>0.340719</td>\n",
       "      <td>1.080733</td>\n",
       "      <td>0.636385</td>\n",
       "    </tr>\n",
       "    <tr>\n",
       "      <th>4</th>\n",
       "      <td>NOX</td>\n",
       "      <td>-1.984752</td>\n",
       "      <td>-0.000000</td>\n",
       "      <td>-1.668128</td>\n",
       "      <td>-0.201548</td>\n",
       "    </tr>\n",
       "    <tr>\n",
       "      <th>5</th>\n",
       "      <td>RM</td>\n",
       "      <td>2.955712</td>\n",
       "      <td>3.075163</td>\n",
       "      <td>3.036739</td>\n",
       "      <td>2.613980</td>\n",
       "    </tr>\n",
       "    <tr>\n",
       "      <th>6</th>\n",
       "      <td>AGE</td>\n",
       "      <td>0.149358</td>\n",
       "      <td>-0.000000</td>\n",
       "      <td>0.053109</td>\n",
       "      <td>-0.000000</td>\n",
       "    </tr>\n",
       "    <tr>\n",
       "      <th>7</th>\n",
       "      <td>DIS</td>\n",
       "      <td>-2.819807</td>\n",
       "      <td>-0.000000</td>\n",
       "      <td>-2.535475</td>\n",
       "      <td>-0.010307</td>\n",
       "    </tr>\n",
       "    <tr>\n",
       "      <th>8</th>\n",
       "      <td>RAD</td>\n",
       "      <td>2.294189</td>\n",
       "      <td>-0.000000</td>\n",
       "      <td>1.706271</td>\n",
       "      <td>-0.000000</td>\n",
       "    </tr>\n",
       "    <tr>\n",
       "      <th>9</th>\n",
       "      <td>TAX</td>\n",
       "      <td>-1.605137</td>\n",
       "      <td>-0.000000</td>\n",
       "      <td>-1.120881</td>\n",
       "      <td>-0.226337</td>\n",
       "    </tr>\n",
       "    <tr>\n",
       "      <th>10</th>\n",
       "      <td>PTRATIO</td>\n",
       "      <td>-2.167562</td>\n",
       "      <td>-1.231897</td>\n",
       "      <td>-2.073288</td>\n",
       "      <td>-1.332305</td>\n",
       "    </tr>\n",
       "    <tr>\n",
       "      <th>11</th>\n",
       "      <td>B</td>\n",
       "      <td>1.117192</td>\n",
       "      <td>0.172007</td>\n",
       "      <td>1.107644</td>\n",
       "      <td>0.591730</td>\n",
       "    </tr>\n",
       "    <tr>\n",
       "      <th>12</th>\n",
       "      <td>LSTAT</td>\n",
       "      <td>-3.945507</td>\n",
       "      <td>-3.480674</td>\n",
       "      <td>-3.770126</td>\n",
       "      <td>-2.493266</td>\n",
       "    </tr>\n",
       "    <tr>\n",
       "      <th>13</th>\n",
       "      <td>Noise_1</td>\n",
       "      <td>-0.350452</td>\n",
       "      <td>-0.000000</td>\n",
       "      <td>-0.375733</td>\n",
       "      <td>-0.039158</td>\n",
       "    </tr>\n",
       "    <tr>\n",
       "      <th>14</th>\n",
       "      <td>Noise_2</td>\n",
       "      <td>-0.257965</td>\n",
       "      <td>-0.000000</td>\n",
       "      <td>-0.273009</td>\n",
       "      <td>-0.030649</td>\n",
       "    </tr>\n",
       "    <tr>\n",
       "      <th>15</th>\n",
       "      <td>Noise_3</td>\n",
       "      <td>0.034345</td>\n",
       "      <td>0.000000</td>\n",
       "      <td>0.039864</td>\n",
       "      <td>0.000000</td>\n",
       "    </tr>\n",
       "    <tr>\n",
       "      <th>16</th>\n",
       "      <td>Noise_4</td>\n",
       "      <td>-0.227978</td>\n",
       "      <td>0.000000</td>\n",
       "      <td>-0.189785</td>\n",
       "      <td>0.000000</td>\n",
       "    </tr>\n",
       "    <tr>\n",
       "      <th>17</th>\n",
       "      <td>Noise_5</td>\n",
       "      <td>0.441075</td>\n",
       "      <td>0.000000</td>\n",
       "      <td>0.437814</td>\n",
       "      <td>0.036119</td>\n",
       "    </tr>\n",
       "  </tbody>\n",
       "</table>\n",
       "</div>"
      ],
      "text/plain": [
       "   Feature Name  Linear Regression     Lasso  Ridge Regression  Elastic Net\n",
       "0          CRIM          -0.247675 -0.000000         -0.194009    -0.000715\n",
       "1            ZN           0.748844  0.000000          0.621422     0.000000\n",
       "2         INDUS           0.119959 -0.000000         -0.057842    -0.117297\n",
       "3          CHAS           1.061234  0.340719          1.080733     0.636385\n",
       "4           NOX          -1.984752 -0.000000         -1.668128    -0.201548\n",
       "5            RM           2.955712  3.075163          3.036739     2.613980\n",
       "6           AGE           0.149358 -0.000000          0.053109    -0.000000\n",
       "7           DIS          -2.819807 -0.000000         -2.535475    -0.010307\n",
       "8           RAD           2.294189 -0.000000          1.706271    -0.000000\n",
       "9           TAX          -1.605137 -0.000000         -1.120881    -0.226337\n",
       "10      PTRATIO          -2.167562 -1.231897         -2.073288    -1.332305\n",
       "11            B           1.117192  0.172007          1.107644     0.591730\n",
       "12        LSTAT          -3.945507 -3.480674         -3.770126    -2.493266\n",
       "13      Noise_1          -0.350452 -0.000000         -0.375733    -0.039158\n",
       "14      Noise_2          -0.257965 -0.000000         -0.273009    -0.030649\n",
       "15      Noise_3           0.034345  0.000000          0.039864     0.000000\n",
       "16      Noise_4          -0.227978  0.000000         -0.189785     0.000000\n",
       "17      Noise_5           0.441075  0.000000          0.437814     0.036119"
      ]
     },
     "execution_count": 8,
     "metadata": {},
     "output_type": "execute_result"
    },
    {
     "data": {
      "image/png": "[encoded data removed]",
      "text/plain": [
       "<Figure size 432x288 with 1 Axes>"
      ]
     },
     "metadata": {
      "needs_background": "light"
     },
     "output_type": "display_data"
    },
    {
     "data": {
      "image/png": "[encoded data removed]",
      "text/plain": [
       "<Figure size 432x288 with 1 Axes>"
      ]
     },
     "metadata": {
      "needs_background": "light"
     },
     "output_type": "display_data"
    },
    {
     "data": {
      "image/png": "[encoded data removed]",
      "text/plain": [
       "<Figure size 432x288 with 1 Axes>"
      ]
     },
     "metadata": {
      "needs_background": "light"
     },
     "output_type": "display_data"
    },
    {
     "data": {
      "image/png": "[encoded data removed]",
      "text/plain": [
       "<Figure size 432x288 with 1 Axes>"
      ]
     },
     "metadata": {
      "needs_background": "light"
     },
     "output_type": "display_data"
    }
   ],
   "source": [
    "## FITTING OF THE MODELS AND RESULTS\n",
    "\n",
    "# PUT YOUR CODE HERE\n",
    "for model in models:\n",
    "    model[0].fit(X_train, y_train)\n",
    "    \n",
    "    # Plot\n",
    "    fig, ax = plt.subplots()\n",
    "    ax.barh(X.columns, model[0].coef_)\n",
    "    ax.set_title(model[1])\n",
    "    ax.set_xlabel('Coefficient value')\n",
    "    ax.set_ylabel('Feature Name')\n",
    "    \n",
    "        \n",
    "pd.DataFrame(list(zip(X.columns, boston_lr.coef_, boston_ls.coef_, boston_rg.coef_, boston_en.coef_)),\n",
    "             columns=['Feature Name','Linear Regression','Lasso','Ridge Regression','Elastic Net'])"
   ]
  },
  {
   "cell_type": "markdown",
   "metadata": {
    "id": "vCaYnamIP5eN"
   },
   "source": [
    "#### Decribe the results"
   ]
  },
  {
   "cell_type": "markdown",
   "metadata": {
    "id": "BJRGjHfBP5eN"
   },
   "source": [
    "- We can see that linear regression assigned non-zero values to all 5 of our noise features, despite none of them having any predictive power. Interestingly, these noise features have coefficients with magnitudes similar to some of the real features in the dataset.\n",
    "- As we hoped, Lasso did a good job of reducing all 5 of our noise features to 0, as well as many of the real features from the dataset. This is indeed a much simpler model than given by linear regression\n",
    "- Ridge Regression makes a similar mistake that unregularized linear regression, assigning coefficient values to our noise features. We also see some features have very small coefficients.\n",
    "- Much like Lasso, Elastic Net makes the coefficients of several features 0. It however does not make as many coefficients 0 as Lasso does."
   ]
  },
  {
   "cell_type": "markdown",
   "metadata": {
    "id": "68pMwN4BP5eO"
   },
   "source": [
    "### Compute the Model Scores"
   ]
  },
  {
   "cell_type": "code",
   "execution_count": 10,
   "metadata": {},
   "outputs": [],
   "source": [
    "from sklearn.metrics import r2_score"
   ]
  },
  {
   "cell_type": "code",
   "execution_count": 13,
   "metadata": {},
   "outputs": [
    {
     "name": "stdout",
     "output_type": "stream",
     "text": [
      "Mean Squared Error of Linear Regression: 23.29\n",
      "Mean Squared Error of Lasso: 24.91\n",
      "Mean Squared Error of Ridge Regression: 23.44\n",
      "Mean Squared Error of Elastic Net: 24.66\n"
     ]
    }
   ],
   "source": [
    "for model in models:\n",
    "    r2 = r2_score(y_test, model[0].predict(X_test))\n",
    "    mse = mean_squared_error(y_test, model[0].predict(X_test))\n",
    "    #print(model[1])\n",
    "    #print(f\"R2 score of {model[1]}: {r2:.3f}\")\n",
    "    print(f\"Mean Squared Error of {model[1]}: {mse:.2f}\")\n",
    "    #print(\"------------------------------------------------\")"
   ]
  },
  {
   "cell_type": "markdown",
   "metadata": {
    "id": "komlDuMgP5eO"
   },
   "source": [
    "This might seem counter-intuitive, but it is important to remember the ridge regression model traded some variance for bias, which ultimately lead to an overall smaller error. The Lasso and Elastic Net models traded a significant amount of variance for bias, and we see that our error has increased.\n",
    "Interestingly, Lasso and Elastic Net had a higher MSE than Linear Regression. But does that mean that these models are unequivocally worse? I would argue not, as the Lasso and Elastic Net models also performed feature selection, which gives us better interpretability of the models. Coefficients are interpreted as the change in dependent variable with a one unit increase in predictor value, with all other predictors held constant. In the case of complex models, the assumption of holding all other predictors constant cannot reasonably be met."
   ]
  },
  {
   "cell_type": "markdown",
   "metadata": {
    "id": "uGEyFZxRP5eP"
   },
   "source": [
    "### Alpha parameter:  Apply Lasso with different values of alpha and describe how the parameters scores change\n",
    "\n",
    "\n",
    "- Complete the function and apply it to the following values: [0, .0001, .5, 10]\n",
    "- Describe the results"
   ]
  },
  {
   "cell_type": "code",
   "execution_count": 25,
   "metadata": {
    "id": "3d3m1027P5eP"
   },
   "outputs": [],
   "source": [
    "names = X.columns\n",
    "\n",
    "# Create a function called lasso,\n",
    "def lasso(alphas):\n",
    "    '''\n",
    "    Takes in a list of alphas. Outputs a dataframe containing the coefficients of lasso regressions from each alpha.\n",
    "    '''\n",
    "    # Create an empty data frame\n",
    "    df = pd.DataFrame()\n",
    "    \n",
    "    # Create a column of feature names\n",
    "    df['Feature Name'] = names\n",
    "    \n",
    "    # For each alpha value in the list of alpha values,\n",
    "    for alpha in alphas:\n",
    "        # Create a lasso regression with that alpha value,\n",
    "\n",
    "        # ********************************************************\n",
    "        lasso = Lasso(alpha)\n",
    "        # ********************************************************\n",
    "        \n",
    "        # Fit the lasso regression\n",
    "        lasso.fit(X_scaled, y)\n",
    "        \n",
    "        # Create a column name for that alpha value\n",
    "        column_name = 'Alpha = %f' % alpha\n",
    "\n",
    "        # Create a column of coefficient values\n",
    "        df[column_name] = lasso.coef_\n",
    "        \n",
    "    # Return the dataframe  \n",
    "    return df"
   ]
  },
  {
   "cell_type": "code",
   "execution_count": 26,
   "metadata": {
    "id": "BJPHSvw9P5eQ",
    "outputId": "91c7e70e-429b-431d-bf84-9679d6fd6eff"
   },
   "outputs": [
    {
     "name": "stderr",
     "output_type": "stream",
     "text": [
      "/opt/anaconda3/lib/python3.7/site-packages/ipykernel_launcher.py:23: UserWarning: With alpha=0, this algorithm does not converge well. You are advised to use the LinearRegression estimator\n",
      "/opt/anaconda3/lib/python3.7/site-packages/sklearn/linear_model/_coordinate_descent.py:531: UserWarning: Coordinate descent with no regularization may lead to unexpected results and is discouraged.\n",
      "  positive)\n",
      "/opt/anaconda3/lib/python3.7/site-packages/sklearn/linear_model/_coordinate_descent.py:531: ConvergenceWarning: Objective did not converge. You might want to increase the number of iterations. Duality gap: 5463.128135196478, tolerance: 4.2716295415019765\n",
      "  positive)\n"
     ]
    },
    {
     "data": {
      "text/html": [
       "<div>\n",
       "<style scoped>\n",
       "    .dataframe tbody tr th:only-of-type {\n",
       "        vertical-align: middle;\n",
       "    }\n",
       "\n",
       "    .dataframe tbody tr th {\n",
       "        vertical-align: top;\n",
       "    }\n",
       "\n",
       "    .dataframe thead th {\n",
       "        text-align: right;\n",
       "    }\n",
       "</style>\n",
       "<table border=\"1\" class=\"dataframe\">\n",
       "  <thead>\n",
       "    <tr style=\"text-align: right;\">\n",
       "      <th></th>\n",
       "      <th>Feature Name</th>\n",
       "      <th>Alpha = 0.000000</th>\n",
       "      <th>Alpha = 0.000100</th>\n",
       "      <th>Alpha = 0.500000</th>\n",
       "      <th>Alpha = 10.000000</th>\n",
       "    </tr>\n",
       "  </thead>\n",
       "  <tbody>\n",
       "    <tr>\n",
       "      <th>0</th>\n",
       "      <td>CRIM</td>\n",
       "      <td>-0.910300</td>\n",
       "      <td>-0.910022</td>\n",
       "      <td>-0.115265</td>\n",
       "      <td>-0.0</td>\n",
       "    </tr>\n",
       "    <tr>\n",
       "      <th>1</th>\n",
       "      <td>ZN</td>\n",
       "      <td>1.075879</td>\n",
       "      <td>1.075448</td>\n",
       "      <td>0.000000</td>\n",
       "      <td>0.0</td>\n",
       "    </tr>\n",
       "    <tr>\n",
       "      <th>2</th>\n",
       "      <td>INDUS</td>\n",
       "      <td>0.131111</td>\n",
       "      <td>0.130161</td>\n",
       "      <td>-0.000000</td>\n",
       "      <td>-0.0</td>\n",
       "    </tr>\n",
       "    <tr>\n",
       "      <th>3</th>\n",
       "      <td>CHAS</td>\n",
       "      <td>0.699388</td>\n",
       "      <td>0.699393</td>\n",
       "      <td>0.397079</td>\n",
       "      <td>0.0</td>\n",
       "    </tr>\n",
       "    <tr>\n",
       "      <th>4</th>\n",
       "      <td>NOX</td>\n",
       "      <td>-2.019445</td>\n",
       "      <td>-2.018821</td>\n",
       "      <td>-0.000000</td>\n",
       "      <td>-0.0</td>\n",
       "    </tr>\n",
       "    <tr>\n",
       "      <th>5</th>\n",
       "      <td>RM</td>\n",
       "      <td>2.641558</td>\n",
       "      <td>2.641635</td>\n",
       "      <td>2.974259</td>\n",
       "      <td>0.0</td>\n",
       "    </tr>\n",
       "    <tr>\n",
       "      <th>6</th>\n",
       "      <td>AGE</td>\n",
       "      <td>-0.048513</td>\n",
       "      <td>-0.048309</td>\n",
       "      <td>-0.000000</td>\n",
       "      <td>-0.0</td>\n",
       "    </tr>\n",
       "    <tr>\n",
       "      <th>7</th>\n",
       "      <td>DIS</td>\n",
       "      <td>-3.103343</td>\n",
       "      <td>-3.102750</td>\n",
       "      <td>-0.170569</td>\n",
       "      <td>0.0</td>\n",
       "    </tr>\n",
       "    <tr>\n",
       "      <th>8</th>\n",
       "      <td>RAD</td>\n",
       "      <td>2.728092</td>\n",
       "      <td>2.726295</td>\n",
       "      <td>-0.000000</td>\n",
       "      <td>-0.0</td>\n",
       "    </tr>\n",
       "    <tr>\n",
       "      <th>9</th>\n",
       "      <td>TAX</td>\n",
       "      <td>-2.135446</td>\n",
       "      <td>-2.133652</td>\n",
       "      <td>-0.000000</td>\n",
       "      <td>-0.0</td>\n",
       "    </tr>\n",
       "    <tr>\n",
       "      <th>10</th>\n",
       "      <td>PTRATIO</td>\n",
       "      <td>-2.048187</td>\n",
       "      <td>-2.048006</td>\n",
       "      <td>-1.598449</td>\n",
       "      <td>-0.0</td>\n",
       "    </tr>\n",
       "    <tr>\n",
       "      <th>11</th>\n",
       "      <td>B</td>\n",
       "      <td>0.869781</td>\n",
       "      <td>0.869661</td>\n",
       "      <td>0.543139</td>\n",
       "      <td>0.0</td>\n",
       "    </tr>\n",
       "    <tr>\n",
       "      <th>12</th>\n",
       "      <td>LSTAT</td>\n",
       "      <td>-3.750653</td>\n",
       "      <td>-3.750629</td>\n",
       "      <td>-3.666144</td>\n",
       "      <td>-0.0</td>\n",
       "    </tr>\n",
       "    <tr>\n",
       "      <th>13</th>\n",
       "      <td>Noise_1</td>\n",
       "      <td>-0.128726</td>\n",
       "      <td>-0.128663</td>\n",
       "      <td>-0.000000</td>\n",
       "      <td>-0.0</td>\n",
       "    </tr>\n",
       "    <tr>\n",
       "      <th>14</th>\n",
       "      <td>Noise_2</td>\n",
       "      <td>-0.188247</td>\n",
       "      <td>-0.188154</td>\n",
       "      <td>-0.000000</td>\n",
       "      <td>-0.0</td>\n",
       "    </tr>\n",
       "    <tr>\n",
       "      <th>15</th>\n",
       "      <td>Noise_3</td>\n",
       "      <td>0.006539</td>\n",
       "      <td>0.006466</td>\n",
       "      <td>0.000000</td>\n",
       "      <td>-0.0</td>\n",
       "    </tr>\n",
       "    <tr>\n",
       "      <th>16</th>\n",
       "      <td>Noise_4</td>\n",
       "      <td>-0.167671</td>\n",
       "      <td>-0.167489</td>\n",
       "      <td>0.000000</td>\n",
       "      <td>0.0</td>\n",
       "    </tr>\n",
       "    <tr>\n",
       "      <th>17</th>\n",
       "      <td>Noise_5</td>\n",
       "      <td>0.473322</td>\n",
       "      <td>0.473221</td>\n",
       "      <td>0.000000</td>\n",
       "      <td>0.0</td>\n",
       "    </tr>\n",
       "  </tbody>\n",
       "</table>\n",
       "</div>"
      ],
      "text/plain": [
       "   Feature Name  Alpha = 0.000000  Alpha = 0.000100  Alpha = 0.500000  \\\n",
       "0          CRIM         -0.910300         -0.910022         -0.115265   \n",
       "1            ZN          1.075879          1.075448          0.000000   \n",
       "2         INDUS          0.131111          0.130161         -0.000000   \n",
       "3          CHAS          0.699388          0.699393          0.397079   \n",
       "4           NOX         -2.019445         -2.018821         -0.000000   \n",
       "5            RM          2.641558          2.641635          2.974259   \n",
       "6           AGE         -0.048513         -0.048309         -0.000000   \n",
       "7           DIS         -3.103343         -3.102750         -0.170569   \n",
       "8           RAD          2.728092          2.726295         -0.000000   \n",
       "9           TAX         -2.135446         -2.133652         -0.000000   \n",
       "10      PTRATIO         -2.048187         -2.048006         -1.598449   \n",
       "11            B          0.869781          0.869661          0.543139   \n",
       "12        LSTAT         -3.750653         -3.750629         -3.666144   \n",
       "13      Noise_1         -0.128726         -0.128663         -0.000000   \n",
       "14      Noise_2         -0.188247         -0.188154         -0.000000   \n",
       "15      Noise_3          0.006539          0.006466          0.000000   \n",
       "16      Noise_4         -0.167671         -0.167489          0.000000   \n",
       "17      Noise_5          0.473322          0.473221          0.000000   \n",
       "\n",
       "    Alpha = 10.000000  \n",
       "0                -0.0  \n",
       "1                 0.0  \n",
       "2                -0.0  \n",
       "3                 0.0  \n",
       "4                -0.0  \n",
       "5                 0.0  \n",
       "6                -0.0  \n",
       "7                 0.0  \n",
       "8                -0.0  \n",
       "9                -0.0  \n",
       "10               -0.0  \n",
       "11                0.0  \n",
       "12               -0.0  \n",
       "13               -0.0  \n",
       "14               -0.0  \n",
       "15               -0.0  \n",
       "16                0.0  \n",
       "17                0.0  "
      ]
     },
     "execution_count": 26,
     "metadata": {},
     "output_type": "execute_result"
    }
   ],
   "source": [
    "lasso([0, .0001, .5, 10])"
   ]
  },
  {
   "cell_type": "markdown",
   "metadata": {
    "id": "f9mjD2LBP5eQ"
   },
   "source": [
    "#### Describe the above results"
   ]
  },
  {
   "cell_type": "markdown",
   "metadata": {
    "id": "DEEFJ9gAP5eQ"
   },
   "source": [
    "When alpha increases, parameters are going to cero, step by step"
   ]
  },
  {
   "cell_type": "code",
   "execution_count": null,
   "metadata": {
    "id": "gRsNPiFhP5eQ"
   },
   "outputs": [],
   "source": []
  },
  {
   "cell_type": "markdown",
   "metadata": {
    "id": "D3dtgTMjP5eR"
   },
   "source": [
    "### Apply Ridge with different values of alpha and describe how the parameters scores change\n",
    "- Complete the function and apply it to the following values: [0, .0001, .5, 10]\n",
    "- Describe the results"
   ]
  },
  {
   "cell_type": "code",
   "execution_count": 16,
   "metadata": {
    "id": "BycXXJZoP5eR"
   },
   "outputs": [],
   "source": [
    "names = X.columns\n",
    "\n",
    "# Create a function called lasso,\n",
    "def ridge(alphas):\n",
    "    '''\n",
    "    Takes in a list of alphas. Outputs a dataframe containing the coefficients of ridge regressions from each alpha.\n",
    "    '''\n",
    "    # Create an empty data frame\n",
    "    df = pd.DataFrame()\n",
    "    \n",
    "    # Create a column of feature names\n",
    "    df['Feature Name'] = names\n",
    "    \n",
    "    # For each alpha value in the list of alpha values,\n",
    "    for alpha in alphas:\n",
    "        # Create a Ridge regression with that alpha value,\n",
    "        \n",
    "        #********************************************************\n",
    "        ridge = Ridge(alpha=10)\n",
    "        #********************************************************\n",
    "        \n",
    "        # Fit the lasso regression\n",
    "        ridge.fit(X_scaled, y)\n",
    "        \n",
    "        # Create a column name for that alpha value\n",
    "        column_name = 'Alpha = %f' % alpha\n",
    "\n",
    "        # Create a column of coefficient values\n",
    "        df[column_name] = ridge.coef_\n",
    "        \n",
    "    # Return the dataframe  \n",
    "    return df"
   ]
  },
  {
   "cell_type": "code",
   "execution_count": 17,
   "metadata": {
    "id": "3XXSdX92P5eR",
    "outputId": "83a16f20-b338-4bba-c4ec-c4915ddd4117"
   },
   "outputs": [
    {
     "data": {
      "text/html": [
       "<div>\n",
       "<style scoped>\n",
       "    .dataframe tbody tr th:only-of-type {\n",
       "        vertical-align: middle;\n",
       "    }\n",
       "\n",
       "    .dataframe tbody tr th {\n",
       "        vertical-align: top;\n",
       "    }\n",
       "\n",
       "    .dataframe thead th {\n",
       "        text-align: right;\n",
       "    }\n",
       "</style>\n",
       "<table border=\"1\" class=\"dataframe\">\n",
       "  <thead>\n",
       "    <tr style=\"text-align: right;\">\n",
       "      <th></th>\n",
       "      <th>Feature Name</th>\n",
       "      <th>Alpha = 0.000000</th>\n",
       "      <th>Alpha = 0.000010</th>\n",
       "      <th>Alpha = 0.500000</th>\n",
       "      <th>Alpha = 10.000000</th>\n",
       "    </tr>\n",
       "  </thead>\n",
       "  <tbody>\n",
       "    <tr>\n",
       "      <th>0</th>\n",
       "      <td>CRIM</td>\n",
       "      <td>-0.841051</td>\n",
       "      <td>-0.841051</td>\n",
       "      <td>-0.841051</td>\n",
       "      <td>-0.841051</td>\n",
       "    </tr>\n",
       "    <tr>\n",
       "      <th>1</th>\n",
       "      <td>ZN</td>\n",
       "      <td>0.944794</td>\n",
       "      <td>0.944794</td>\n",
       "      <td>0.944794</td>\n",
       "      <td>0.944794</td>\n",
       "    </tr>\n",
       "    <tr>\n",
       "      <th>2</th>\n",
       "      <td>INDUS</td>\n",
       "      <td>-0.058785</td>\n",
       "      <td>-0.058785</td>\n",
       "      <td>-0.058785</td>\n",
       "      <td>-0.058785</td>\n",
       "    </tr>\n",
       "    <tr>\n",
       "      <th>3</th>\n",
       "      <td>CHAS</td>\n",
       "      <td>0.724105</td>\n",
       "      <td>0.724105</td>\n",
       "      <td>0.724105</td>\n",
       "      <td>0.724105</td>\n",
       "    </tr>\n",
       "    <tr>\n",
       "      <th>4</th>\n",
       "      <td>NOX</td>\n",
       "      <td>-1.776997</td>\n",
       "      <td>-1.776997</td>\n",
       "      <td>-1.776997</td>\n",
       "      <td>-1.776997</td>\n",
       "    </tr>\n",
       "    <tr>\n",
       "      <th>5</th>\n",
       "      <td>RM</td>\n",
       "      <td>2.710210</td>\n",
       "      <td>2.710210</td>\n",
       "      <td>2.710210</td>\n",
       "      <td>2.710210</td>\n",
       "    </tr>\n",
       "    <tr>\n",
       "      <th>6</th>\n",
       "      <td>AGE</td>\n",
       "      <td>-0.102826</td>\n",
       "      <td>-0.102826</td>\n",
       "      <td>-0.102826</td>\n",
       "      <td>-0.102826</td>\n",
       "    </tr>\n",
       "    <tr>\n",
       "      <th>7</th>\n",
       "      <td>DIS</td>\n",
       "      <td>-2.851696</td>\n",
       "      <td>-2.851696</td>\n",
       "      <td>-2.851696</td>\n",
       "      <td>-2.851696</td>\n",
       "    </tr>\n",
       "    <tr>\n",
       "      <th>8</th>\n",
       "      <td>RAD</td>\n",
       "      <td>2.143472</td>\n",
       "      <td>2.143472</td>\n",
       "      <td>2.143472</td>\n",
       "      <td>2.143472</td>\n",
       "    </tr>\n",
       "    <tr>\n",
       "      <th>9</th>\n",
       "      <td>TAX</td>\n",
       "      <td>-1.605837</td>\n",
       "      <td>-1.605837</td>\n",
       "      <td>-1.605837</td>\n",
       "      <td>-1.605837</td>\n",
       "    </tr>\n",
       "    <tr>\n",
       "      <th>10</th>\n",
       "      <td>PTRATIO</td>\n",
       "      <td>-1.977052</td>\n",
       "      <td>-1.977052</td>\n",
       "      <td>-1.977052</td>\n",
       "      <td>-1.977052</td>\n",
       "    </tr>\n",
       "    <tr>\n",
       "      <th>11</th>\n",
       "      <td>B</td>\n",
       "      <td>0.859999</td>\n",
       "      <td>0.859999</td>\n",
       "      <td>0.859999</td>\n",
       "      <td>0.859999</td>\n",
       "    </tr>\n",
       "    <tr>\n",
       "      <th>12</th>\n",
       "      <td>LSTAT</td>\n",
       "      <td>-3.621715</td>\n",
       "      <td>-3.621715</td>\n",
       "      <td>-3.621715</td>\n",
       "      <td>-3.621715</td>\n",
       "    </tr>\n",
       "    <tr>\n",
       "      <th>13</th>\n",
       "      <td>Noise_1</td>\n",
       "      <td>-0.146215</td>\n",
       "      <td>-0.146215</td>\n",
       "      <td>-0.146215</td>\n",
       "      <td>-0.146215</td>\n",
       "    </tr>\n",
       "    <tr>\n",
       "      <th>14</th>\n",
       "      <td>Noise_2</td>\n",
       "      <td>-0.196852</td>\n",
       "      <td>-0.196852</td>\n",
       "      <td>-0.196852</td>\n",
       "      <td>-0.196852</td>\n",
       "    </tr>\n",
       "    <tr>\n",
       "      <th>15</th>\n",
       "      <td>Noise_3</td>\n",
       "      <td>0.013853</td>\n",
       "      <td>0.013853</td>\n",
       "      <td>0.013853</td>\n",
       "      <td>0.013853</td>\n",
       "    </tr>\n",
       "    <tr>\n",
       "      <th>16</th>\n",
       "      <td>Noise_4</td>\n",
       "      <td>-0.129913</td>\n",
       "      <td>-0.129913</td>\n",
       "      <td>-0.129913</td>\n",
       "      <td>-0.129913</td>\n",
       "    </tr>\n",
       "    <tr>\n",
       "      <th>17</th>\n",
       "      <td>Noise_5</td>\n",
       "      <td>0.465459</td>\n",
       "      <td>0.465459</td>\n",
       "      <td>0.465459</td>\n",
       "      <td>0.465459</td>\n",
       "    </tr>\n",
       "  </tbody>\n",
       "</table>\n",
       "</div>"
      ],
      "text/plain": [
       "   Feature Name  Alpha = 0.000000  Alpha = 0.000010  Alpha = 0.500000  \\\n",
       "0          CRIM         -0.841051         -0.841051         -0.841051   \n",
       "1            ZN          0.944794          0.944794          0.944794   \n",
       "2         INDUS         -0.058785         -0.058785         -0.058785   \n",
       "3          CHAS          0.724105          0.724105          0.724105   \n",
       "4           NOX         -1.776997         -1.776997         -1.776997   \n",
       "5            RM          2.710210          2.710210          2.710210   \n",
       "6           AGE         -0.102826         -0.102826         -0.102826   \n",
       "7           DIS         -2.851696         -2.851696         -2.851696   \n",
       "8           RAD          2.143472          2.143472          2.143472   \n",
       "9           TAX         -1.605837         -1.605837         -1.605837   \n",
       "10      PTRATIO         -1.977052         -1.977052         -1.977052   \n",
       "11            B          0.859999          0.859999          0.859999   \n",
       "12        LSTAT         -3.621715         -3.621715         -3.621715   \n",
       "13      Noise_1         -0.146215         -0.146215         -0.146215   \n",
       "14      Noise_2         -0.196852         -0.196852         -0.196852   \n",
       "15      Noise_3          0.013853          0.013853          0.013853   \n",
       "16      Noise_4         -0.129913         -0.129913         -0.129913   \n",
       "17      Noise_5          0.465459          0.465459          0.465459   \n",
       "\n",
       "    Alpha = 10.000000  \n",
       "0           -0.841051  \n",
       "1            0.944794  \n",
       "2           -0.058785  \n",
       "3            0.724105  \n",
       "4           -1.776997  \n",
       "5            2.710210  \n",
       "6           -0.102826  \n",
       "7           -2.851696  \n",
       "8            2.143472  \n",
       "9           -1.605837  \n",
       "10          -1.977052  \n",
       "11           0.859999  \n",
       "12          -3.621715  \n",
       "13          -0.146215  \n",
       "14          -0.196852  \n",
       "15           0.013853  \n",
       "16          -0.129913  \n",
       "17           0.465459  "
      ]
     },
     "execution_count": 17,
     "metadata": {},
     "output_type": "execute_result"
    }
   ],
   "source": [
    "ridge([0, .00001, .5, 10])"
   ]
  },
  {
   "cell_type": "markdown",
   "metadata": {
    "id": "htviX3D9P5eS"
   },
   "source": [
    "In practice, we will not manually look for the best alpha coefficient. Both in Lasso and ridge regression, the alpha is a hyperparameter. Therefore, we will find the best one via crossvalidation. Fortunately, sklearn has a function that performs CV to find the optimal alpha automatically. "
   ]
  },
  {
   "cell_type": "code",
   "execution_count": 18,
   "metadata": {
    "id": "uRFc3rLAP5eT",
    "outputId": "06a2e667-b1a2-4fce-aef6-b6d190df74d2"
   },
   "outputs": [
    {
     "data": {
      "text/plain": [
       "0.0027014685641162176"
      ]
     },
     "execution_count": 18,
     "metadata": {},
     "output_type": "execute_result"
    }
   ],
   "source": [
    "from sklearn.linear_model import LassoCV\n",
    "\n",
    "reg = LassoCV(max_iter = 5000, cv = 20, normalize=True).fit(X_train, y_train)\n",
    "reg.alpha_"
   ]
  },
  {
   "cell_type": "code",
   "execution_count": 28,
   "metadata": {
    "id": "B9iMJpLBP5eT"
   },
   "outputs": [
    {
     "data": {
      "text/plain": [
       "0.06041354675223892"
      ]
     },
     "execution_count": 28,
     "metadata": {},
     "output_type": "execute_result"
    }
   ],
   "source": [
    "from sklearn.linear_model import RidgeCV\n",
    "alphas = 10**np.linspace(10,-2,500)*0.5\n",
    "\n",
    "reg = RidgeCV(alphas = alphas, cv = 20, normalize=True).fit(X_train, y_train)\n",
    "reg.alpha_"
   ]
  },
  {
   "cell_type": "code",
   "execution_count": 29,
   "metadata": {},
   "outputs": [
    {
     "data": {
      "text/plain": [
       "0.0007142364912385333"
      ]
     },
     "execution_count": 29,
     "metadata": {},
     "output_type": "execute_result"
    }
   ],
   "source": [
    "from sklearn.linear_model import ElasticNetCV\n",
    "\n",
    "ela_reg = ElasticNetCV(max_iter = 5000, cv = 20, normalize=True).fit(X_train, y_train)\n",
    "ela_reg.alpha_"
   ]
  },
  {
   "cell_type": "code",
   "execution_count": null,
   "metadata": {},
   "outputs": [],
   "source": []
  }
 ],
 "metadata": {
  "colab": {
   "name": "Session_3_Regularization_and_Poly_regression_EXERCISE.ipynb",
   "provenance": []
  },
  "kernelspec": {
   "display_name": "Python 3",
   "language": "python",
   "name": "python3"
  },
  "language_info": {
   "codemirror_mode": {
    "name": "ipython",
    "version": 3
   },
   "file_extension": ".py",
   "mimetype": "text/x-python",
   "name": "python",
   "nbconvert_exporter": "python",
   "pygments_lexer": "ipython3",
   "version": "3.7.0"
  }
 },
 "nbformat": 4,
 "nbformat_minor": 1
}
